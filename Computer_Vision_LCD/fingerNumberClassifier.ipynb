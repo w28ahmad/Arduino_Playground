{
  "nbformat": 4,
  "nbformat_minor": 0,
  "metadata": {
    "colab": {
      "name": "fingerNumberClassifier.ipynb",
      "provenance": [],
      "collapsed_sections": []
    },
    "kernelspec": {
      "name": "python3",
      "display_name": "Python 3"
    },
    "language_info": {
      "name": "python"
    },
    "accelerator": "GPU"
  },
  "cells": [
    {
      "cell_type": "code",
      "metadata": {
        "id": "4G2_YLQpJvxV"
      },
      "source": [
        "!zip -r train.zip train"
      ],
      "execution_count": null,
      "outputs": []
    },
    {
      "cell_type": "code",
      "metadata": {
        "id": "At19oNWWbPhI"
      },
      "source": [
        "import numpy as np\n",
        "import pandas as pd\n",
        "\n",
        "import matplotlib.pyplot as plt\n",
        "%matplotlib inline\n",
        "from matplotlib import image\n",
        "\n",
        "# for creating validation set\n",
        "from sklearn.model_selection import train_test_split\n",
        "from sklearn.utils import shuffle\n",
        "\n",
        "# for evaluating the model\n",
        "from sklearn.metrics import accuracy_score\n",
        "from tqdm import tqdm\n",
        "\n",
        "# PyTorch libraries and modules\n",
        "import torch\n",
        "from torch.autograd import Variable\n",
        "from torch.nn import Linear, ReLU, CrossEntropyLoss, Sequential, Conv2d, MaxPool2d, Module, Softmax, BatchNorm2d, Dropout\n",
        "from torch.optim import Adam, SGD\n",
        "from torch.utils.data import Dataset, DataLoader\n",
        "\n",
        "import torchvision.transforms as transforms\n",
        "\n",
        "import random\n",
        "import os\n",
        "import cv2 as cv"
      ],
      "execution_count": 1,
      "outputs": []
    },
    {
      "cell_type": "code",
      "metadata": {
        "id": "ZBmJIzfw6yvW"
      },
      "source": [
        "!mkdir train"
      ],
      "execution_count": 1,
      "outputs": []
    },
    {
      "cell_type": "code",
      "metadata": {
        "id": "QlTByGwtcfqG"
      },
      "source": [
        "ROOT = \"./dataset\"\n",
        "# DATASET_SIZE = 1000\n",
        "dirs = [\"zero\", \"one\", \"two\", \"three\", \"four\", \"five\", \"undefined\"]\n",
        "datasize = {\"zero\": 5000, \"one\": 5000, \"two\": 5000, \"three\": 5000, \"four\": 3000, \"five\": 2000, \"undefined\": 1000}\n",
        "train = 'train'\n",
        "data = {\"id\":[], \"digit\": []}\n",
        "\n",
        "for idx, dir in enumerate(dirs):\n",
        "  path = os.path.join(ROOT, dir)\n",
        "  for i in range(0, datasize[dir]):\n",
        "    path = os.path.join(ROOT, dir, \"{}.jpg\".format(i))\n",
        "    img = np.asarray(image.imread(path))\n",
        "    \n",
        "    hash = random.getrandbits(128)\n",
        "    filename = \"%032x.jpg\" % hash\n",
        "    data['id'].append(filename)\n",
        "    path = os.path.join(train, filename)\n",
        "    cv.imwrite(path, img)\n",
        "    data['digit'].append(idx)\n",
        "\n",
        "    print(idx, i)\n",
        "\n",
        "df = pd.DataFrame(data)\n",
        "df = df.sample(frac=1).reset_index(drop=True)"
      ],
      "execution_count": null,
      "outputs": []
    },
    {
      "cell_type": "code",
      "metadata": {
        "colab": {
          "base_uri": "https://localhost:8080/"
        },
        "id": "038Ue1Oy7URo",
        "outputId": "4f60c087-a178-4ebf-9795-4de45ae22910"
      },
      "source": [
        "df.count()"
      ],
      "execution_count": 7,
      "outputs": [
        {
          "output_type": "execute_result",
          "data": {
            "text/plain": [
              "id       26000\n",
              "digit    26000\n",
              "dtype: int64"
            ]
          },
          "metadata": {},
          "execution_count": 7
        }
      ]
    },
    {
      "cell_type": "code",
      "metadata": {
        "id": "xm1S5fAxIflh"
      },
      "source": [
        "df.to_csv(\"train.csv\")"
      ],
      "execution_count": 8,
      "outputs": []
    },
    {
      "cell_type": "code",
      "metadata": {
        "id": "2bbUT1WCDewx",
        "colab": {
          "base_uri": "https://localhost:8080/",
          "height": 231
        },
        "outputId": "f91ab836-3c93-4f59-b751-125e1ed46ec3"
      },
      "source": [
        "# X, y = load_data()\n",
        "# X_train, X_test, Y_train, Y_test = train_test_split(X, y, test_size=0.2)\n",
        "# print(np.mean(X_train))\n",
        "# print(np.mean(X_test))\n",
        "# print(np.std(X_train))\n",
        "# print(np.std(X_test))\n",
        "# train = 'train'\n",
        "# data = {\"id\":[], \"digit\": []}\n",
        "# for image, label in zip(X, y):\n",
        "#   hash = random.getrandbits(128)\n",
        "#   filename = \"%032x.jpg\" % hash\n",
        "#   data['id'].append(filename)\n",
        "#   path = os.path.join(train, filename)\n",
        "#   cv.imwrite(path, image)\n",
        "#   data['digit'].append(label)\n",
        "# df = pd.DataFrame(data)\n",
        "# df.to_csv(\"train.csv\")"
      ],
      "execution_count": null,
      "outputs": [
        {
          "output_type": "error",
          "ename": "NameError",
          "evalue": "ignored",
          "traceback": [
            "\u001b[0;31m---------------------------------------------------------------------------\u001b[0m",
            "\u001b[0;31mNameError\u001b[0m                                 Traceback (most recent call last)",
            "\u001b[0;32m<ipython-input-23-15fc4a052630>\u001b[0m in \u001b[0;36m<module>\u001b[0;34m()\u001b[0m\n\u001b[1;32m      7\u001b[0m \u001b[0mtrain\u001b[0m \u001b[0;34m=\u001b[0m \u001b[0;34m'train'\u001b[0m\u001b[0;34m\u001b[0m\u001b[0;34m\u001b[0m\u001b[0m\n\u001b[1;32m      8\u001b[0m \u001b[0mdata\u001b[0m \u001b[0;34m=\u001b[0m \u001b[0;34m{\u001b[0m\u001b[0;34m\"id\"\u001b[0m\u001b[0;34m:\u001b[0m\u001b[0;34m[\u001b[0m\u001b[0;34m]\u001b[0m\u001b[0;34m,\u001b[0m \u001b[0;34m\"digit\"\u001b[0m\u001b[0;34m:\u001b[0m \u001b[0;34m[\u001b[0m\u001b[0;34m]\u001b[0m\u001b[0;34m}\u001b[0m\u001b[0;34m\u001b[0m\u001b[0;34m\u001b[0m\u001b[0m\n\u001b[0;32m----> 9\u001b[0;31m \u001b[0;32mfor\u001b[0m \u001b[0mimage\u001b[0m\u001b[0;34m,\u001b[0m \u001b[0mlabel\u001b[0m \u001b[0;32min\u001b[0m \u001b[0mzip\u001b[0m\u001b[0;34m(\u001b[0m\u001b[0mX\u001b[0m\u001b[0;34m,\u001b[0m \u001b[0my\u001b[0m\u001b[0;34m)\u001b[0m\u001b[0;34m:\u001b[0m\u001b[0;34m\u001b[0m\u001b[0;34m\u001b[0m\u001b[0m\n\u001b[0m\u001b[1;32m     10\u001b[0m   \u001b[0mhash\u001b[0m \u001b[0;34m=\u001b[0m \u001b[0mrandom\u001b[0m\u001b[0;34m.\u001b[0m\u001b[0mgetrandbits\u001b[0m\u001b[0;34m(\u001b[0m\u001b[0;36m128\u001b[0m\u001b[0;34m)\u001b[0m\u001b[0;34m\u001b[0m\u001b[0;34m\u001b[0m\u001b[0m\n\u001b[1;32m     11\u001b[0m   \u001b[0mfilename\u001b[0m \u001b[0;34m=\u001b[0m \u001b[0;34m\"%032x.jpg\"\u001b[0m \u001b[0;34m%\u001b[0m \u001b[0mhash\u001b[0m\u001b[0;34m\u001b[0m\u001b[0;34m\u001b[0m\u001b[0m\n",
            "\u001b[0;31mNameError\u001b[0m: name 'X' is not defined"
          ]
        }
      ]
    },
    {
      "cell_type": "code",
      "metadata": {
        "id": "scuT4WTGLIhD"
      },
      "source": [
        "class digitDataset(Dataset):\n",
        "  def __init__(self, data, path , transform = None):\n",
        "    super().__init__()\n",
        "    self.data = data.values\n",
        "    self.path = path\n",
        "    self.transform = transform\n",
        "    \n",
        "  def __len__(self):\n",
        "    return len(self.data)\n",
        "  \n",
        "  def __getitem__(self,index):\n",
        "    img_name,label = self.data[index]\n",
        "    img_path = os.path.join(self.path, img_name)\n",
        "    image = cv.imread(img_path, cv.IMREAD_GRAYSCALE)\n",
        "    if self.transform is not None:\n",
        "        image = self.transform(image)\n",
        "    return image, label"
      ],
      "execution_count": 2,
      "outputs": []
    },
    {
      "cell_type": "code",
      "metadata": {
        "id": "Ap-oxZ2PMC6e"
      },
      "source": [
        "train_transform = transforms.Compose([transforms.ToPILImage(),\n",
        "                                      transforms.ToTensor(),\n",
        "                                      transforms.Normalize([7.524291],[43.089508])])\n",
        "\n",
        "valid_transform = transforms.Compose([transforms.ToPILImage(),\n",
        "                                     transforms.ToTensor(),\n",
        "                                     transforms.Normalize([7.524291],[43.089508])])"
      ],
      "execution_count": 3,
      "outputs": []
    },
    {
      "cell_type": "code",
      "metadata": {
        "id": "0m7uedlOVWAd"
      },
      "source": [
        "labels = pd.read_csv(r'train.csv')\n",
        "labels = labels.sample(frac=1).reset_index(drop=True)\n",
        "del labels['Unnamed: 0']\n",
        "train, valid_data = train_test_split(labels, stratify=labels.digit, test_size=0.1)"
      ],
      "execution_count": 4,
      "outputs": []
    },
    {
      "cell_type": "code",
      "metadata": {
        "id": "oCxCWnZjWDjN"
      },
      "source": [
        "train_path = r'train'\n",
        "train_data = digitDataset(train, train_path, train_transform)\n",
        "valid_data = digitDataset(valid_data, train_path, valid_transform)"
      ],
      "execution_count": 5,
      "outputs": []
    },
    {
      "cell_type": "code",
      "metadata": {
        "id": "sS94dFCqWsQ3"
      },
      "source": [
        "# Hyper parameters\n",
        "num_epochs = 13\n",
        "batch_size = 25\n",
        "learning_rate = 0.0001"
      ],
      "execution_count": 18,
      "outputs": []
    },
    {
      "cell_type": "code",
      "metadata": {
        "id": "ZRFULNjtWnJd"
      },
      "source": [
        "train_loader = DataLoader(dataset = train_data, batch_size = batch_size, shuffle=True, num_workers=0)\n",
        "valid_loader = DataLoader(dataset = valid_data, batch_size = batch_size, shuffle=False, num_workers=0)"
      ],
      "execution_count": 19,
      "outputs": []
    },
    {
      "cell_type": "code",
      "metadata": {
        "id": "WGGs0hpG1sBA"
      },
      "source": [
        "class Net(Module):   \n",
        "    def __init__(self):\n",
        "        super(Net, self).__init__()\n",
        "\n",
        "        self.cnn_layers = Sequential(\n",
        "            # Defining a 2D convolution layer\n",
        "            Conv2d(1, 4, kernel_size=3, stride=1, padding=1),\n",
        "            BatchNorm2d(4),\n",
        "            ReLU(inplace=True),\n",
        "            MaxPool2d(kernel_size=2, stride=2),\n",
        "            # Defining another 2D convolution layer\n",
        "            Conv2d(4, 4, kernel_size=3, stride=1, padding=1),\n",
        "            BatchNorm2d(4),\n",
        "            ReLU(inplace=True),\n",
        "            MaxPool2d(kernel_size=2, stride=2),\n",
        "            # Defining another 2D convolution layer\n",
        "            Conv2d(4, 4, kernel_size=3, stride=1, padding=1),\n",
        "            BatchNorm2d(4),\n",
        "            ReLU(inplace=True),\n",
        "            MaxPool2d(kernel_size=2, stride=2),\n",
        "            # Defining another 2D convolution layer\n",
        "            Conv2d(4, 4, kernel_size=3, stride=1, padding=1),\n",
        "            BatchNorm2d(4),\n",
        "            ReLU(inplace=True),\n",
        "            MaxPool2d(kernel_size=2, stride=2),\n",
        "            # Defining another 2D convolution layer\n",
        "            Conv2d(4, 4, kernel_size=3, stride=1, padding=1),\n",
        "            BatchNorm2d(4),\n",
        "            ReLU(inplace=True),\n",
        "            MaxPool2d(kernel_size=2, stride=2),\n",
        "        )\n",
        "\n",
        "        self.linear_layers = Sequential(\n",
        "            Linear(1200, 100),\n",
        "            Linear(100, 50),\n",
        "            Linear(50, 7)\n",
        "        )\n",
        "\n",
        "    # Defining the forward pass    \n",
        "    def forward(self, x):\n",
        "        x = self.cnn_layers(x)\n",
        "        x = x.view(x.size(0), -1)\n",
        "        x = self.linear_layers(x)\n",
        "        return x"
      ],
      "execution_count": 20,
      "outputs": []
    },
    {
      "cell_type": "code",
      "metadata": {
        "id": "bfqSfasP2z8m"
      },
      "source": [
        "device = torch.device('cuda:0' if torch.cuda.is_available() else 'cpu')\n",
        "# defining the model\n",
        "model = Net().to(device)\n",
        "# defining the optimizer\n",
        "optimizer = Adam(model.parameters(), lr=learning_rate)\n",
        "# defining the loss function\n",
        "criterion = CrossEntropyLoss()"
      ],
      "execution_count": 21,
      "outputs": []
    },
    {
      "cell_type": "code",
      "metadata": {
        "id": "EQQDv7PU3Dl3",
        "colab": {
          "base_uri": "https://localhost:8080/"
        },
        "outputId": "825343b3-a5fd-46aa-ab11-059131eba151"
      },
      "source": [
        "# keeping-track-of-losses \n",
        "train_losses = []\n",
        "valid_losses = []\n",
        "\n",
        "for epoch in range(1, num_epochs + 1):\n",
        "    # keep-track-of-training-and-validation-loss\n",
        "    train_loss = 0.0\n",
        "    valid_loss = 0.0\n",
        "    \n",
        "    # training-the-model\n",
        "    model.train()\n",
        "    for data, target in train_loader:\n",
        "        # move-tensors-to-GPU \n",
        "        data = data.to(device)\n",
        "        target = target.to(device)\n",
        "        \n",
        "        # clear-the-gradients-of-all-optimized-variables\n",
        "        optimizer.zero_grad()\n",
        "        # forward-pass: compute-predicted-outputs-by-passing-inputs-to-the-model\n",
        "        output = model(data)\n",
        "        # calculate-the-batch-loss\n",
        "        loss = criterion(output, target)\n",
        "        # backward-pass: compute-gradient-of-the-loss-wrt-model-parameters\n",
        "        loss.backward()\n",
        "        # perform-a-single-optimization-step (parameter-update)\n",
        "        optimizer.step()\n",
        "        # update-training-loss\n",
        "        train_loss += loss.item() * data.size(0)\n",
        "        \n",
        "    # validate-the-model\n",
        "    model.eval()\n",
        "    for data, target in valid_loader:\n",
        "        \n",
        "        data = data.to(device)\n",
        "        target = target.to(device)\n",
        "        \n",
        "        output = model(data)\n",
        "        \n",
        "        loss = criterion(output, target)\n",
        "        \n",
        "        # update-average-validation-loss \n",
        "        valid_loss += loss.item() * data.size(0)\n",
        "    \n",
        "    # calculate-average-losses\n",
        "    train_loss = train_loss/len(train_loader.sampler)\n",
        "    valid_loss = valid_loss/len(valid_loader.sampler)\n",
        "    train_losses.append(train_loss)\n",
        "    valid_losses.append(valid_loss)\n",
        "        \n",
        "    # print-training/validation-statistics \n",
        "    print('Epoch: {} \\tTraining Loss: {:.6f} \\tValidation Loss: {:.6f}'.format(\n",
        "        epoch, train_loss, valid_loss))"
      ],
      "execution_count": 22,
      "outputs": [
        {
          "output_type": "stream",
          "text": [
            "Epoch: 1 \tTraining Loss: 1.053806 \tValidation Loss: 0.722749\n",
            "Epoch: 2 \tTraining Loss: 0.600911 \tValidation Loss: 0.522601\n",
            "Epoch: 3 \tTraining Loss: 0.460197 \tValidation Loss: 0.427502\n",
            "Epoch: 4 \tTraining Loss: 0.362198 \tValidation Loss: 0.345104\n",
            "Epoch: 5 \tTraining Loss: 0.296830 \tValidation Loss: 0.315800\n",
            "Epoch: 6 \tTraining Loss: 0.250317 \tValidation Loss: 0.269692\n",
            "Epoch: 7 \tTraining Loss: 0.216260 \tValidation Loss: 0.247898\n",
            "Epoch: 8 \tTraining Loss: 0.189359 \tValidation Loss: 0.228144\n",
            "Epoch: 9 \tTraining Loss: 0.172166 \tValidation Loss: 0.219321\n",
            "Epoch: 10 \tTraining Loss: 0.155827 \tValidation Loss: 0.213562\n",
            "Epoch: 11 \tTraining Loss: 0.144617 \tValidation Loss: 0.206277\n",
            "Epoch: 12 \tTraining Loss: 0.134072 \tValidation Loss: 0.200337\n",
            "Epoch: 13 \tTraining Loss: 0.128097 \tValidation Loss: 0.188278\n",
            "CPU times: user 23min 17s, sys: 1min 43s, total: 25min 1s\n",
            "Wall time: 25min 5s\n"
          ],
          "name": "stdout"
        }
      ]
    },
    {
      "cell_type": "code",
      "metadata": {
        "colab": {
          "base_uri": "https://localhost:8080/"
        },
        "id": "A5vBAZ1RdShC",
        "outputId": "bce8f85c-fa61-41ce-e4ee-706b06a894fc"
      },
      "source": [
        " # test-the-model\n",
        "model.eval()  # it-disables-dropout\n",
        "with torch.no_grad():\n",
        "    correct = 0\n",
        "    total = 0\n",
        "    for images, labels in valid_loader:\n",
        "        images = images.to(device)\n",
        "        labels = labels.to(device)\n",
        "        outputs = model(images)\n",
        "        _, predicted = torch.max(outputs.data, 1)\n",
        "        total += labels.size(0)\n",
        "        correct += (predicted == labels).sum().item()\n",
        "          \n",
        "    print('Test Accuracy of the model: {} %'.format(100 * correct / total))\n"
      ],
      "execution_count": 27,
      "outputs": [
        {
          "output_type": "stream",
          "text": [
            "Test Accuracy of the model: 94.61538461538461 %\n"
          ],
          "name": "stdout"
        }
      ]
    },
    {
      "cell_type": "code",
      "metadata": {
        "id": "KEHQfF3rqwB1"
      },
      "source": [
        "94.61538461538461"
      ],
      "execution_count": null,
      "outputs": []
    },
    {
      "cell_type": "code",
      "metadata": {
        "id": "DfizPMwo4PQd",
        "colab": {
          "base_uri": "https://localhost:8080/",
          "height": 295
        },
        "outputId": "b437699d-4589-4ae4-e9b1-65eb5f971645"
      },
      "source": [
        "%matplotlib inline\n",
        "%config InlineBackend.figure_format = 'retina'\n",
        "\n",
        "plt.plot(train_losses, label='Training loss')\n",
        "plt.plot(valid_losses, label='Validation loss')\n",
        "plt.xlabel(\"Epochs\")\n",
        "plt.ylabel(\"Loss\")\n",
        "plt.legend(frameon=False)"
      ],
      "execution_count": 24,
      "outputs": [
        {
          "output_type": "execute_result",
          "data": {
            "text/plain": [
              "<matplotlib.legend.Legend at 0x7efc9229f310>"
            ]
          },
          "metadata": {},
          "execution_count": 24
        },
        {
          "output_type": "display_data",
          "data": {
            "image/png": "[encoded data removed]",
            "text/plain": [
              "<Figure size 432x288 with 1 Axes>"
            ]
          },
          "metadata": {
            "image/png": {
              "width": 385,
              "height": 261
            },
            "needs_background": "light"
          }
        }
      ]
    },
    {
      "cell_type": "code",
      "metadata": {
        "id": "I62DxK_k57Cu"
      },
      "source": [
        "# Save \n",
        "torch.save(model.state_dict(), 'model_95.ckpt')"
      ],
      "execution_count": 25,
      "outputs": []
    },
    {
      "cell_type": "code",
      "metadata": {
        "id": "ogvXPN6WO3kC"
      },
      "source": [
        ""
      ],
      "execution_count": null,
      "outputs": []
    }
  ]
}